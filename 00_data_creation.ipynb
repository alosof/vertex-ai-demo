{
 "cells": [
  {
   "cell_type": "markdown",
   "id": "3caac09c",
   "metadata": {},
   "source": [
    "# Imports"
   ]
  },
  {
   "cell_type": "code",
   "execution_count": 1,
   "id": "6adc5cf6",
   "metadata": {},
   "outputs": [],
   "source": [
    "import json\n",
    "import random\n",
    "import numpy as np\n",
    "\n",
    "from shutil import rmtree\n",
    "from pathlib import Path\n",
    "from tensorflow.keras.datasets import fashion_mnist\n",
    "from tensorflow.keras.utils import save_img"
   ]
  },
  {
   "cell_type": "markdown",
   "id": "9ff51d63",
   "metadata": {},
   "source": [
    "# Config"
   ]
  },
  {
   "cell_type": "code",
   "execution_count": 2,
   "id": "c5aaf30e",
   "metadata": {},
   "outputs": [],
   "source": [
    "DATA_FOLDER = Path.cwd() / \"data\""
   ]
  },
  {
   "cell_type": "markdown",
   "id": "b25a33bd",
   "metadata": {},
   "source": [
    "# Labels"
   ]
  },
  {
   "cell_type": "markdown",
   "id": "b8f8d063",
   "metadata": {},
   "source": [
    "## Output path"
   ]
  },
  {
   "cell_type": "code",
   "execution_count": 3,
   "id": "52452767",
   "metadata": {},
   "outputs": [],
   "source": [
    "class_names_file = DATA_FOLDER / \"class_names.json\""
   ]
  },
  {
   "cell_type": "markdown",
   "id": "ffcd31e8",
   "metadata": {},
   "source": [
    "## Data creation"
   ]
  },
  {
   "cell_type": "code",
   "execution_count": 4,
   "id": "691f18a1",
   "metadata": {},
   "outputs": [],
   "source": [
    "class_names = {\n",
    "    0: \"T-shirt/top\",\n",
    "    1: \"Trouser\",\n",
    "    2: \"Pullover\",\n",
    "    3: \"Dress\",\n",
    "    4: \"Coat\",\n",
    "    5: \"Sandal\",\n",
    "    6: \"Shirt\",\n",
    "    7: \"Sneaker\",\n",
    "    8: \"Bag\",\n",
    "    9: \"Ankle boot\"\n",
    "}"
   ]
  },
  {
   "cell_type": "code",
   "execution_count": 5,
   "id": "03eaf929",
   "metadata": {},
   "outputs": [],
   "source": [
    "with open(class_names_file, \"w\") as file:\n",
    "    json.dump(class_names, file)"
   ]
  },
  {
   "cell_type": "markdown",
   "id": "daeaa0c6",
   "metadata": {},
   "source": [
    "# Data"
   ]
  },
  {
   "cell_type": "markdown",
   "id": "22cb6904",
   "metadata": {},
   "source": [
    "## Output paths"
   ]
  },
  {
   "cell_type": "code",
   "execution_count": 6,
   "id": "d65ba623",
   "metadata": {},
   "outputs": [
    {
     "data": {
      "text/plain": [
       "PosixPath('/Users/sofiene.alouini/miniconda3/envs/vertex-ai-demo/bin/python')"
      ]
     },
     "execution_count": 6,
     "metadata": {},
     "output_type": "execute_result"
    }
   ],
   "source": [
    "Path(sys.executable)"
   ]
  },
  {
   "cell_type": "code",
   "execution_count": 7,
   "id": "4215b0bd",
   "metadata": {},
   "outputs": [],
   "source": [
    "if DATA_FOLDER.exists() and \"vertex-ai-demo\" in DATA_FOLDER.parents:\n",
    "    rmtree(DATA_FOLDER, ignore_errors=True)\n",
    "\n",
    "train_data_folder_partial = DATA_FOLDER / \"train_partial\"\n",
    "train_data_folder_all = DATA_FOLDER / \"train_all\"\n",
    "test_data_folder = DATA_FOLDER / \"test\"\n",
    "\n",
    "for class_name in class_names.keys():\n",
    "    (train_data_folder_partial / str(class_name)).mkdir(parents=True, exist_ok=True)\n",
    "    (train_data_folder_all / str(class_name)).mkdir(parents=True, exist_ok=True)\n",
    "    (test_data_folder / str(class_name)).mkdir(parents=True, exist_ok=True)"
   ]
  },
  {
   "cell_type": "markdown",
   "id": "4129cbeb",
   "metadata": {},
   "source": [
    "## Data creation"
   ]
  },
  {
   "cell_type": "code",
   "execution_count": 8,
   "id": "fb4ac964",
   "metadata": {},
   "outputs": [
    {
     "name": "stdout",
     "output_type": "stream",
     "text": [
      "TRAIN:\n",
      "Images: (60000, 28, 28)\n",
      "Labels: (60000,)\n",
      "\n",
      "TEST:\n",
      "Images: (10000, 28, 28)\n",
      "Labels: (10000,)\n"
     ]
    }
   ],
   "source": [
    "(X_train, y_train), (X_test, y_test) = fashion_mnist.load_data()\n",
    "\n",
    "print(\"TRAIN:\")\n",
    "print(\"Images:\", X_train.shape)\n",
    "print(\"Labels:\", y_train.shape)\n",
    "\n",
    "print(\"\\nTEST:\")\n",
    "print(\"Images:\", X_test.shape)\n",
    "print(\"Labels:\", y_test.shape)"
   ]
  },
  {
   "cell_type": "code",
   "execution_count": 9,
   "id": "1bd2f308",
   "metadata": {},
   "outputs": [],
   "source": [
    "def create_split(X: np.ndarray, y: np.ndarray, target_folder: Path, samples_per_class: dict = None, seed: int = 42):\n",
    "    X_ = np.expand_dims(X, axis=-1)\n",
    "    if samples_per_class is None:\n",
    "        indices = range(len(X_))\n",
    "    else:\n",
    "        indices = []\n",
    "        for class_num in range(10):\n",
    "            class_indices = (y == class_num).nonzero()[0].tolist()\n",
    "            \n",
    "            if class_num in samples_per_class.keys():\n",
    "                class_samples = samples_per_class[class_num]\n",
    "                if class_samples > len(indices):\n",
    "                    raise ValueError(f\"There is a total of {str(len(indices))} examples for class {str(class_num)}\")\n",
    "                random.seed(seed)\n",
    "                class_indices = random.sample(class_indices, class_samples)\n",
    "            \n",
    "            indices.extend(class_indices)\n",
    "                \n",
    "    for idx in indices:\n",
    "        img_array, img_class = X_[idx], y[idx]\n",
    "        img_file_path = target_folder / str(img_class) / f\"{str(idx).zfill(5)}.jpg\"\n",
    "        save_img(img_file_path, img_array)"
   ]
  },
  {
   "cell_type": "code",
   "execution_count": 10,
   "id": "60020259",
   "metadata": {},
   "outputs": [],
   "source": [
    "create_split(X_test, y_test, test_data_folder)\n",
    "create_split(X_train, y_train, train_data_folder_all)\n",
    "create_split(X_train, y_train, train_data_folder_partial, samples_per_class={7: 500, 9: 500})"
   ]
  }
 ],
 "metadata": {
  "kernelspec": {
   "display_name": "vertex-ai-demo",
   "language": "python",
   "name": "vertex-ai-demo"
  },
  "language_info": {
   "codemirror_mode": {
    "name": "ipython",
    "version": 3
   },
   "file_extension": ".py",
   "mimetype": "text/x-python",
   "name": "python",
   "nbconvert_exporter": "python",
   "pygments_lexer": "ipython3",
   "version": "3.7.13"
  }
 },
 "nbformat": 4,
 "nbformat_minor": 5
}
